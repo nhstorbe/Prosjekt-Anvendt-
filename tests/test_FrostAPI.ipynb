{
 "cells": [
  {
   "cell_type": "code",
   "execution_count": null,
   "id": "ad78f32a",
   "metadata": {},
   "outputs": [],
   "source": [
    "import unittest\n",
    "from datetime import date, timedelta"
   ]
  },
  {
   "cell_type": "code",
   "execution_count": null,
   "id": "e718acea",
   "metadata": {},
   "outputs": [
    {
     "ename": "ModuleNotFoundError",
     "evalue": "No module named 'FrostAPI'",
     "output_type": "error",
     "traceback": [
      "\u001b[1;31m---------------------------------------------------------------------------\u001b[0m",
      "\u001b[1;31mModuleNotFoundError\u001b[0m                       Traceback (most recent call last)",
      "Cell \u001b[1;32mIn[10], line 4\u001b[0m\n\u001b[0;32m      1\u001b[0m \u001b[38;5;28;01mimport\u001b[39;00m\u001b[38;5;250m \u001b[39m\u001b[38;5;21;01msys\u001b[39;00m\n\u001b[0;32m      2\u001b[0m sys\u001b[38;5;241m.\u001b[39mpath\u001b[38;5;241m.\u001b[39mappend(\u001b[38;5;124m'\u001b[39m\u001b[38;5;124m/scr/Mappe 2/FrostAPI.ipynb\u001b[39m\u001b[38;5;124m'\u001b[39m)  \u001b[38;5;66;03m# Juster stien hvis nødvendig\u001b[39;00m\n\u001b[1;32m----> 4\u001b[0m \u001b[38;5;28;01mfrom\u001b[39;00m\u001b[38;5;250m \u001b[39m\u001b[38;5;21;01mFrostAPI\u001b[39;00m\u001b[38;5;250m \u001b[39m\u001b[38;5;28;01mimport\u001b[39;00m fetch_and_analyze_weather\n\u001b[0;32m      7\u001b[0m \u001b[38;5;28;01mclass\u001b[39;00m\u001b[38;5;250m \u001b[39m\u001b[38;5;21;01mTestFrostAPI\u001b[39;00m(unittest\u001b[38;5;241m.\u001b[39mTestCase):\n\u001b[0;32m      8\u001b[0m     \u001b[38;5;28;01mdef\u001b[39;00m\u001b[38;5;250m \u001b[39m\u001b[38;5;21mtest_kjøring\u001b[39m(\u001b[38;5;28mself\u001b[39m):\n",
      "\u001b[1;31mModuleNotFoundError\u001b[0m: No module named 'FrostAPI'"
     ]
    }
   ],
   "source": [
    "import sys\n",
    "sys.path.append('/scr/Mappe 2/FrostAPI.ipynb') \n",
    "\n",
    "from FrostAPI import fetch_and_analyze_weather\n",
    "\n",
    "\n",
    "class TestFrostAPI(unittest.TestCase):\n",
    "    def test_kjøring(self):\n",
    "        client_id = \"test\"\n",
    "        station_id = \"SN18700\"\n",
    "        start_date = date.today() - timedelta(days=10)\n",
    "        end_date = date.today()\n",
    "\n",
    "        # Try blokken tester tilfellet, uten å kræsje metoden.\n",
    "        try:\n",
    "            fetch_and_analyze_weather(client_id, station_id, start_date, end_date)\n",
    "        except Exception as e:\n",
    "            self.fail(f\"Funksjonen feilet: {e}\")\n",
    "\n",
    "unittest.main(argv=[''], exit=False)\n"
   ]
  }
 ],
 "metadata": {
  "kernelspec": {
   "display_name": "Python 3",
   "language": "python",
   "name": "python3"
  },
  "language_info": {
   "codemirror_mode": {
    "name": "ipython",
    "version": 3
   },
   "file_extension": ".py",
   "mimetype": "text/x-python",
   "name": "python",
   "nbconvert_exporter": "python",
   "pygments_lexer": "ipython3",
   "version": "3.13.2"
  }
 },
 "nbformat": 4,
 "nbformat_minor": 5
}
