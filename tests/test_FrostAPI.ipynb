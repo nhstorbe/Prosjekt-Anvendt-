{
 "cells": [
  {
   "cell_type": "code",
   "execution_count": 2,
   "id": "ad78f32a",
   "metadata": {},
   "outputs": [],
   "source": [
    "import unittest\n",
    "from datetime import date, timedelta\n",
    "import sys\n",
    "import os\n",
    "import nbimporter"
   ]
  },
  {
   "cell_type": "code",
   "execution_count": 12,
   "id": "2646f1b3",
   "metadata": {},
   "outputs": [
    {
     "name": "stdout",
     "output_type": "stream",
     "text": [
      "['data_visualisering_fremtid.ipynb', 'data_visualisering_historisk.ipynb', 'FrostAPI.ipynb', 'README.md']\n",
      "c:\\Users\\Eier\\Documents\\NTNU\\S4\\Anvendt programmering\\Anvendt Programmering Prosjekt\\Prosjekt-Anvendt-\\src\\Mappe 2\n"
     ]
    }
   ],
   "source": [
    "print(os.listdir(\"../src/Mappe 2\"))\n",
    "print(os.path.abspath(\"../src/Mappe 2\"))"
   ]
  },
  {
   "cell_type": "code",
   "execution_count": 16,
   "id": "7ff63307",
   "metadata": {},
   "outputs": [
    {
     "ename": "ModuleNotFoundError",
     "evalue": "No module named 'FrostAPI'",
     "output_type": "error",
     "traceback": [
      "\u001b[31m---------------------------------------------------------------------------\u001b[39m",
      "\u001b[31mModuleNotFoundError\u001b[39m                       Traceback (most recent call last)",
      "\u001b[36mCell\u001b[39m\u001b[36m \u001b[39m\u001b[32mIn[16]\u001b[39m\u001b[32m, line 6\u001b[39m\n\u001b[32m      4\u001b[39m \u001b[38;5;66;03m# Importer funksjonen din fra notebooken (hvis det er en .ipynb-fil)\u001b[39;00m\n\u001b[32m      5\u001b[39m \u001b[38;5;28;01mimport\u001b[39;00m\u001b[38;5;250m \u001b[39m\u001b[34;01mnbimporter\u001b[39;00m\n\u001b[32m----> \u001b[39m\u001b[32m6\u001b[39m \u001b[38;5;28;01mfrom\u001b[39;00m\u001b[38;5;250m \u001b[39m\u001b[34;01mFrostAPI\u001b[39;00m\u001b[38;5;250m \u001b[39m\u001b[38;5;28;01mimport\u001b[39;00m fetch_and_analyze_weather\n",
      "\u001b[31mModuleNotFoundError\u001b[39m: No module named 'FrostAPI'"
     ]
    }
   ],
   "source": [
    "# Legg til sti til notebooken du skal importere fra\n",
    "sys.path.append(os.path.abspath(\"../src/Mappe 2/FrostAPI.ipynb\"))\n",
    "\n",
    "# Importer funksjonen din fra notebooken (hvis det er en .ipynb-fil)\n",
    "import nbimporter\n",
    "from FrostAPI import fetch_and_analyze_weather\n",
    "\n"
   ]
  },
  {
   "cell_type": "code",
   "execution_count": null,
   "id": "3092385e",
   "metadata": {},
   "outputs": [],
   "source": [
    "class TestFrostAPI(unittest.TestCase):\n",
    "    def test_kjøring(self):\n",
    "        client_id = \"aff7c34e-993d-4132-81bc-1df3e81d7868\"\n",
    "        station_id = \"SN18700\"\n",
    "        start_date = date.today() - timedelta(days=10)\n",
    "        end_date = date.today()\n",
    "\n",
    "        # Try blokken tester tilfellet, uten å kræsje metoden.\n",
    "        try:\n",
    "            fetch_and_analyze_weather(client_id, station_id, start_date, end_date)\n",
    "        except Exception as e:\n",
    "            self.fail(f\"Funksjonen feilet: {e}\")\n"
   ]
  }
 ],
 "metadata": {
  "kernelspec": {
   "display_name": ".venv",
   "language": "python",
   "name": "python3"
  },
  "language_info": {
   "codemirror_mode": {
    "name": "ipython",
    "version": 3
   },
   "file_extension": ".py",
   "mimetype": "text/x-python",
   "name": "python",
   "nbconvert_exporter": "python",
   "pygments_lexer": "ipython3",
   "version": "3.13.2"
  }
 },
 "nbformat": 4,
 "nbformat_minor": 5
}
