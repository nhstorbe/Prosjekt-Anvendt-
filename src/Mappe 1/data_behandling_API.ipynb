{
 "cells": [
  {
   "cell_type": "markdown",
   "id": "7baf566c",
   "metadata": {},
   "source": [
    "# Opppgave 2 Datainnsamling "
   ]
  },
  {
   "cell_type": "code",
   "execution_count": 1,
   "id": "6a55deac",
   "metadata": {},
   "outputs": [],
   "source": [
    "import requests\n",
    "import pandas as pd\n",
    "from datetime import date, timedelta, datetime\n",
    "from pandasql import sqldf"
   ]
  },
  {
   "cell_type": "code",
   "execution_count": 2,
   "id": "f6338a6a",
   "metadata": {},
   "outputs": [],
   "source": [
    "# Input parameterene\n",
    "client_id = \"aff7c34e-993d-4132-81bc-1df3e81d7868\" \n",
    "station_id = \"SN18700\"  # Blindern, Oslo\n",
    "elements = [\"air_temperature\", \"relative_humidity\", \"wind_speed\", \"precipitation_amount\"]\n",
    "start_date = (datetime.now() - timedelta(days=365)).strftime(\"%Y-%m-%d\")\n",
    "end_date = datetime.now().strftime(\"%Y-%m-%d\")\n"
   ]
  },
  {
   "cell_type": "markdown",
   "id": "c286a49f",
   "metadata": {},
   "source": [
    "Funksjonen visualiserer_data henter informasjon om værstasjoner fra Frost API ved hjelp av brukerens klient-ID. Den sender en forespørsel til API-et for å få en oversikt over alle tilgjengelige stasjoner. Deretter filtrerer den ut og strukturerer relevante data, som stasjons-ID, navn og land, og konverterer dette til en pandas DataFrame. Til slutt filtreres kun de stasjonene som ligger i Norge, slik at vi får en oversikt over norske værstasjoner som kan brukes videre i datainnsamling eller analyse. Funksjonen returnerer en tabell (DataFrame) med informasjon om disse norske stasjonene."
   ]
  },
  {
   "cell_type": "code",
   "execution_count": 3,
   "id": "abce0c45",
   "metadata": {},
   "outputs": [
    {
     "data": {
      "text/html": [
       "<div>\n",
       "<style scoped>\n",
       "    .dataframe tbody tr th:only-of-type {\n",
       "        vertical-align: middle;\n",
       "    }\n",
       "\n",
       "    .dataframe tbody tr th {\n",
       "        vertical-align: top;\n",
       "    }\n",
       "\n",
       "    .dataframe thead th {\n",
       "        text-align: right;\n",
       "    }\n",
       "</style>\n",
       "<table border=\"1\" class=\"dataframe\">\n",
       "  <thead>\n",
       "    <tr style=\"text-align: right;\">\n",
       "      <th></th>\n",
       "      <th>id</th>\n",
       "      <th>name</th>\n",
       "      <th>country</th>\n",
       "    </tr>\n",
       "  </thead>\n",
       "  <tbody>\n",
       "    <tr>\n",
       "      <th>0</th>\n",
       "      <td>SN47230</td>\n",
       "      <td>ÅKRA UNGDOMSSKOLE</td>\n",
       "      <td>Norge</td>\n",
       "    </tr>\n",
       "    <tr>\n",
       "      <th>1</th>\n",
       "      <td>SN20952</td>\n",
       "      <td>STATFJORD C</td>\n",
       "      <td>Norge</td>\n",
       "    </tr>\n",
       "    <tr>\n",
       "      <th>2</th>\n",
       "      <td>SN23670</td>\n",
       "      <td>E16 RYFOSS</td>\n",
       "      <td>Norge</td>\n",
       "    </tr>\n",
       "    <tr>\n",
       "      <th>3</th>\n",
       "      <td>SN59450</td>\n",
       "      <td>STADLANDET</td>\n",
       "      <td>Norge</td>\n",
       "    </tr>\n",
       "    <tr>\n",
       "      <th>4</th>\n",
       "      <td>SN55000</td>\n",
       "      <td>LUSTER - ORNES</td>\n",
       "      <td>Norge</td>\n",
       "    </tr>\n",
       "    <tr>\n",
       "      <th>...</th>\n",
       "      <td>...</td>\n",
       "      <td>...</td>\n",
       "      <td>...</td>\n",
       "    </tr>\n",
       "    <tr>\n",
       "      <th>2122</th>\n",
       "      <td>SN97120</td>\n",
       "      <td>E6 BARTA</td>\n",
       "      <td>Norge</td>\n",
       "    </tr>\n",
       "    <tr>\n",
       "      <th>2123</th>\n",
       "      <td>SN61062</td>\n",
       "      <td>TOMREFJORD</td>\n",
       "      <td>Norge</td>\n",
       "    </tr>\n",
       "    <tr>\n",
       "      <th>2126</th>\n",
       "      <td>SN15270</td>\n",
       "      <td>JUVVASSHØE</td>\n",
       "      <td>Norge</td>\n",
       "    </tr>\n",
       "    <tr>\n",
       "      <th>2128</th>\n",
       "      <td>SN74780</td>\n",
       "      <td>NAMSVATN II</td>\n",
       "      <td>Norge</td>\n",
       "    </tr>\n",
       "    <tr>\n",
       "      <th>2130</th>\n",
       "      <td>SN94805</td>\n",
       "      <td>E69 VEDBOTN</td>\n",
       "      <td>Norge</td>\n",
       "    </tr>\n",
       "  </tbody>\n",
       "</table>\n",
       "<p>1510 rows × 3 columns</p>\n",
       "</div>"
      ],
      "text/plain": [
       "           id               name country\n",
       "0     SN47230  ÅKRA UNGDOMSSKOLE   Norge\n",
       "1     SN20952        STATFJORD C   Norge\n",
       "2     SN23670         E16 RYFOSS   Norge\n",
       "3     SN59450         STADLANDET   Norge\n",
       "4     SN55000     LUSTER - ORNES   Norge\n",
       "...       ...                ...     ...\n",
       "2122  SN97120           E6 BARTA   Norge\n",
       "2123  SN61062         TOMREFJORD   Norge\n",
       "2126  SN15270         JUVVASSHØE   Norge\n",
       "2128  SN74780        NAMSVATN II   Norge\n",
       "2130  SN94805        E69 VEDBOTN   Norge\n",
       "\n",
       "[1510 rows x 3 columns]"
      ]
     },
     "execution_count": 3,
     "metadata": {},
     "output_type": "execute_result"
    }
   ],
   "source": [
    "def visualiserer_data(client_id):\n",
    "\n",
    "    sources_url = \"https://frost.met.no/sources/v0.jsonld\"\n",
    "    try:\n",
    "        response = requests.get(sources_url, auth=(client_id, \"\"), timeout=10)\n",
    "        response.raise_for_status()\n",
    "        sources_data = response.json()\n",
    "\n",
    "    except requests.exceptions.RequestException as err:\n",
    "        print(f\"Feil ved innhenting av stasjon data: {err}\")\n",
    "        return None\n",
    "\n",
    "    stations = []\n",
    "    for source in sources_data[\"data\"]:\n",
    "        if \"name\" in source and \"id\" in source:\n",
    "            stations.append({\n",
    "                \"id\": source[\"id\"],\n",
    "                \"name\": source[\"name\"],\n",
    "                \"country\": source.get(\"country\", \"\")\n",
    "            })\n",
    "    \n",
    "    stations_df = pd.DataFrame(stations)\n",
    "    norway_stations = stations_df[stations_df[\"country\"] == \"Norge\"]\n",
    "    \n",
    "    if norway_stations.empty:\n",
    "        print(\"No Norwegian stations found.\")\n",
    "        return None\n",
    "    \n",
    "    return norway_stations\n",
    "\n",
    "visualiserer_data(client_id)"
   ]
  },
  {
   "cell_type": "markdown",
   "id": "29d09424",
   "metadata": {},
   "source": [
    "Funksjonen get_station_id_by_name tar en klient-ID og et søkebegrep som input for å finne en værstasjon basert på navnet. Den henter først en liste over alle tilgjengelige stasjoner i Norge ved hjelp av funksjonen visualiserer_data. Deretter søker den etter stasjoner som har et navn som inneholder søkebegrepet, uavhengig av store og små bokstaver. Hvis én matchende stasjon finnes, returneres dens ID. Hvis flere stasjoner matcher, vises en liste med disse stasjonene, og den første stasjonen velges som standard. Hvis ingen stasjoner matcher, får brukeren beskjed om at ingen resultater ble funnet."
   ]
  },
  {
   "cell_type": "code",
   "execution_count": null,
   "id": "f6e63bcb",
   "metadata": {},
   "outputs": [
    {
     "name": "stdout",
     "output_type": "stream",
     "text": [
      "Flere mulige stasjoner funnet:\n",
      "           id                      name\n",
      "18    SN18700           OSLO - BLINDERN\n",
      "1365  SN18701       OSLO - BLINDERN PLU\n",
      "1924  SN18703  OSLO - BLINDERN TESTFELT\n",
      "Velger den første: SN18700\n"
     ]
    }
   ],
   "source": [
    "def get_station_id_by_name(client_id, search_name):\n",
    "    stations = visualiserer_data(client_id)\n",
    "    if stations is None or stations.empty:\n",
    "        print(\"Fant ingen stasjoner.\")\n",
    "        return None\n",
    "\n",
    "    # Søker etter stasjoner med navn som inneholder søketeksten\n",
    "    mask = stations[\"name\"].str.lower().str.contains(search_name.lower())\n",
    "    matches = stations[mask]\n",
    "\n",
    "    if matches.empty:\n",
    "        print(f\"Ingen stasjoner matchet {search_name}\")\n",
    "        return None\n",
    "\n",
    "    if len(matches) == 1:\n",
    "        station_id = matches.iloc[0][\"id\"]\n",
    "        print(f\"Fant stasjon: {matches.iloc[0]['name']} → ID: {station_id}\")\n",
    "        \n",
    "    else:\n",
    "        print(\"Flere mulige stasjoner funnet:\")\n",
    "        print(matches[[\"id\", \"name\"]])\n",
    "        # Velger første som default så noe blir gjort\n",
    "        station_id = matches.iloc[0][\"id\"]\n",
    "        print(f\"Velger den første: {station_id}\")\n",
    "\n",
    "get_station_id_by_name(client_id, \"Oslo - Blindern\")"
   ]
  },
  {
   "cell_type": "markdown",
   "id": "a302ae77",
   "metadata": {},
   "source": [
    "Funksjonen fetch_hourly_weather_to_csv brukes til å hente timesoppløste værdata fra Meteorologisk institutts Frost API, basert på en spesifikk stasjon, dato-intervall og ønskede værparametere. Den henter data for lufttemperatur, relativ luftfuktighet, middelvind og nedbør, og lagrer resultatene i en CSV-fil. For hver av de valgte værparametrene defineres passende elementkoder som benyttes i forespørslene til API-et. Dataene behandles og struktureres i en felles datastruktur før de lagres i fil.\n",
    "\n",
    "I forsøket på å hente timesbaserte nedbørsdata fra Frost API fikk vi en \"412 Precondition Failed\"-feil. Dette tror vi skyldes at Meteorologisk institutt ikke benytter seg av en timeoppløsning for nedbør på den valgte stasjonen. Vi testet med flere stasjoner og fikk fortsatt ikke tak i nedbørsdata i timesoppløsning, og antar derfor at Meteorologisk institutt kun leverer nedbør på døgnbasis. I tillegg må man bruke sum når man henter ut nedbørsdata, da nedbør registreres som en akkumulert verdi over tid. For de øvrige variablene som lufttemperatur, relativ luftfuktighet og middelvind benyttes derimot mean, ettersom disse verdiene representerer gjennomsnitt i løpet av en gitt time. Det er likevel verdt å merke seg at kolonnen for nedbør fortsatt eksisterer i CSV-filen, men den inneholder ingen verdier. Dette gir fleksibilitet for fremtidig utfylling dersom nedbørsdata i ønsket oppløsning skulle bli tilgjengelig."
   ]
  },
  {
   "cell_type": "code",
   "execution_count": null,
   "id": "60edb3e8",
   "metadata": {},
   "outputs": [
    {
     "name": "stdout",
     "output_type": "stream",
     "text": [
      "Hentet Lufttemperatur: 8760 observasjoner\n",
      "Hentet Relativ luftfuktighet: 8760 observasjoner\n",
      "Feil ved henting av nedbør: 412 Client Error: Precondition Failed for url: https://frost.met.no/observations/v0.jsonld?sources=SN18700&elements=sum%28precipitation_amount+P1H%29&referencetime=2024-04-20%2F2025-04-20&timeoffsets=default&timeresolutions=PT1H\n",
      "Responsstatus: Ingen respons\n",
      "Hentet Middelvind: 8760 observasjoner\n",
      "Data lagret i: ../../data/weather_data.csv\n"
     ]
    }
   ],
   "source": [
    "\n",
    "def fetch_hourly_weather_to_csv(client_id, station_id, station_name, start_date, end_date, filename=\"../../data/weather_data.csv\"):\n",
    "    elements = {\n",
    "        \"Lufttemperatur\": \"air_temperature\",\n",
    "        \"Relativ luftfuktighet\": \"relative_humidity\",\n",
    "        \"Nedbør\": \"sum(precipitation_amount P1H)\", \n",
    "        \"Middelvind\": \"wind_speed\",\n",
    "    }\n",
    "\n",
    "    base_url = \"https://frost.met.no/observations/v0.jsonld\"\n",
    "    full_data = {}\n",
    "\n",
    "    for label, element in elements.items():\n",
    "        params = {\n",
    "            \"sources\": station_id,\n",
    "            \"elements\": element,\n",
    "            \"referencetime\": f\"{start_date}/{end_date}\",\n",
    "            \"timeoffsets\": \"default\",\n",
    "            \"timeresolutions\": \"PT1H\"\n",
    "        }\n",
    "        \n",
    "        # Tester om URL-en fungerer\n",
    "        try:\n",
    "            response = requests.get(base_url, params=params, auth=(client_id, \"\"), timeout=30) \n",
    "            response.raise_for_status()\n",
    "            data = response.json().get(\"data\", [])\n",
    "            print(f\"Hentet {label}: {len(data)} observasjoner\") \n",
    "            if not data:\n",
    "                print(f\"Ingen data for {label} i perioden {start_date} til {end_date}\")\n",
    "        except requests.exceptions.RequestException as e:\n",
    "            print(f\"Feil ved henting av {label.lower()}: {e}\")\n",
    "            print(f\"Responsstatus: {response.status_code if response else 'Ingen respons'}\")\n",
    "            continue\n",
    "\n",
    "        for entry in data:\n",
    "            time = pd.to_datetime(entry[\"referenceTime\"]).tz_localize(None)\n",
    "            value = entry[\"observations\"][0][\"value\"]\n",
    "\n",
    "            if time not in full_data:\n",
    "                full_data[time] = {}\n",
    "            full_data[time][label] = value\n",
    "\n",
    "    # Konverterer til DataFrame\n",
    "    records = []\n",
    "    for time, values in sorted(full_data.items()):\n",
    "        record = {\n",
    "            \"Navn\": station_name,\n",
    "            \"Stasjon\": station_id,\n",
    "            \"Tid (t)\": time.strftime(\"%d.%m.%Y %H:00\"),\n",
    "            \"Nedbør (mm)\": values.get(\"Nedbør\", \"\"),\n",
    "            \"Lufttemperatur (C)\": values.get(\"Lufttemperatur\", \"\"),\n",
    "            \"Middelvind (m/s)\": values.get(\"Middelvind\", \"\"),\n",
    "            \"Relativ luftfuktighet (g/m³)\": values.get(\"Relativ luftfuktighet\", \"\")\n",
    "        }\n",
    "        records.append(record)\n",
    "\n",
    "    df = pd.DataFrame(records)\n",
    "    df.to_csv(filename, sep=\";\", index=False, encoding=\"utf-8\")\n",
    "    print(f\"Data lagret i: {filename}\")\n",
    "\n",
    "\n",
    "fetch_hourly_weather_to_csv(client_id, station_id, \"Oslo - Blindern\", start_date, end_date)"
   ]
  },
  {
   "cell_type": "markdown",
   "id": "20a02f90",
   "metadata": {},
   "source": [
    "### For å forstå dataens struktur og innhold har vi benyttet oss av diverse funksjoner \n",
    "- Vi startet med å bruke list comprehensions for å trekke ut spesifikke verdier, som for eksempel temperaturene, direkte fra DataFrame-en på en effektiv måte. Et eksempel på dette er funksjonen hent_varme_dager, som returnerer en liste over tidspunkt og temperatur for alle observasjoner der temperaturen overstiger en gitt grense.\n",
    "- Deretter tok vi i bruk en iterator med df.iterrows() for å bla gjennom DataFrame-radene én etter én. Dette gjør det mulig å hente ut og presentere flere kolonneverdier samtidig på en oversiktlig måte. Vi laget en funksjon vis_observasjoner, som skriver ut stasjonsnavn, tidspunkt og relativ fuktighet for de første observasjonene i datasettet.\n",
    "- Til slutt benyttet vi pandasql for å filtrere og analysere datasettet ved hjelp av SQL-syntaks direkte på DataFrame-en. Dette gjør det enklere å trekke ut spesifikke verdier basert på betingelser, som for eksempel alle tilfeller der middelvinden overstiger 10 m/s. Vi laget funksjonen hent_vind_over_grense for å gjøre dette på en fin måte."
   ]
  },
  {
   "cell_type": "code",
   "execution_count": null,
   "id": "1b7583db",
   "metadata": {},
   "outputs": [
    {
     "name": "stdout",
     "output_type": "stream",
     "text": [
      "[('27.06.2024 15:00', 27.2)]\n"
     ]
    }
   ],
   "source": [
    "# Henter ut varme dager med list comprehension\n",
    "def hent_varme_dager(df, temperaturgrense):\n",
    "    \n",
    "    varme_dager = [(rad[\"Tid (t)\"], rad[\"Lufttemperatur (C)\"]) \n",
    "                   for i, rad in df.iterrows() \n",
    "                   if rad[\"Lufttemperatur (C)\"] > temperaturgrense]\n",
    "    return varme_dager\n",
    "\n",
    "df = pd.read_csv(\"../../data/weather_data.csv\", sep=\";\", encoding=\"utf-8\")\n",
    "varme_dager = hent_varme_dager(df,temperaturgrense=27)\n",
    "print(varme_dager[:10]) \n"
   ]
  },
  {
   "cell_type": "code",
   "execution_count": null,
   "id": "1c670ee6",
   "metadata": {},
   "outputs": [
    {
     "name": "stdout",
     "output_type": "stream",
     "text": [
      "Viser de første 6 observasjonene:\n",
      "\n",
      "Stasjon: SN18700, Tid: 20.04.2024 00:00, Relativ Fuktighet: 90(g/m³)\n",
      "Stasjon: SN18700, Tid: 20.04.2024 01:00, Relativ Fuktighet: 93(g/m³)\n",
      "Stasjon: SN18700, Tid: 20.04.2024 02:00, Relativ Fuktighet: 93(g/m³)\n",
      "Stasjon: SN18700, Tid: 20.04.2024 03:00, Relativ Fuktighet: 92(g/m³)\n",
      "Stasjon: SN18700, Tid: 20.04.2024 04:00, Relativ Fuktighet: 92(g/m³)\n",
      "Stasjon: SN18700, Tid: 20.04.2024 05:00, Relativ Fuktighet: 88(g/m³)\n"
     ]
    }
   ],
   "source": [
    "# Itterer gjennom DataFrame og skriver ut de første 5 observasjonene\n",
    "def vis_observasjoner(df, antall=5):\n",
    "    print(f\"Viser de første {antall+1} observasjonene:\\n\")\n",
    "    for index, row in df.iterrows():\n",
    "        print(f\"Stasjon: {row['Stasjon']}, Tid: {row['Tid (t)']}, Relativ Fuktighet: {row['Relativ luftfuktighet (g/m³)']}(g/m³)\")\n",
    "        if index == antall:\n",
    "            break\n",
    "\n",
    "vis_observasjoner(df, antall=5)"
   ]
  },
  {
   "cell_type": "code",
   "execution_count": null,
   "id": "fe689de7",
   "metadata": {},
   "outputs": [
    {
     "data": {
      "text/html": [
       "<div>\n",
       "<style scoped>\n",
       "    .dataframe tbody tr th:only-of-type {\n",
       "        vertical-align: middle;\n",
       "    }\n",
       "\n",
       "    .dataframe tbody tr th {\n",
       "        vertical-align: top;\n",
       "    }\n",
       "\n",
       "    .dataframe thead th {\n",
       "        text-align: right;\n",
       "    }\n",
       "</style>\n",
       "<table border=\"1\" class=\"dataframe\">\n",
       "  <thead>\n",
       "    <tr style=\"text-align: right;\">\n",
       "      <th></th>\n",
       "      <th>tid</th>\n",
       "      <th>middelvind</th>\n",
       "    </tr>\n",
       "  </thead>\n",
       "  <tbody>\n",
       "    <tr>\n",
       "      <th>0</th>\n",
       "      <td>02.12.2024 18:00</td>\n",
       "      <td>10.7</td>\n",
       "    </tr>\n",
       "  </tbody>\n",
       "</table>\n",
       "</div>"
      ],
      "text/plain": [
       "                tid  middelvind\n",
       "0  02.12.2024 18:00        10.7"
      ]
     },
     "execution_count": 90,
     "metadata": {},
     "output_type": "execute_result"
    }
   ],
   "source": [
    "# Pandasql for å hente ut data\n",
    "def sterk_vind(df, grense):\n",
    "    \n",
    "    df = df.rename(columns={\n",
    "        \"Middelvind (m/s)\": \"middelvind\",\n",
    "        \"Tid (t)\": \"tid\"\n",
    "    })\n",
    "\n",
    "    vind = f\"SELECT tid, middelvind FROM df WHERE middelvind > {grense}\"\n",
    "    result = sqldf(vind)\n",
    "    return result\n",
    "\n",
    "sterk_vind(df, grense=10)\n"
   ]
  },
  {
   "cell_type": "markdown",
   "id": "33c540f5",
   "metadata": {},
   "source": [
    "# Oppgave 3 Databehandling \n",
    "- Funksjonen datafiltrering leser inn værdata fra en CSV-fil, konverterer tidskolonnen til riktig datoformat, sørger for at numeriske kolonner har riktig datatype (float), og fyller inn eventuelle manglende verdier med kolonnegjennomsnittet. Dette sikrer at datasettet er strukturert og klart for videre analyse.\n",
    "- Funksjonen ekstremVerdier fjerner unormale eller ekstreme verdier i datasettet ved å filtrere temperaturer utenfor området -50 til 50 grader Celsius og vindhastigheter utenfor området 0 til 115 m/s. Dette bidrar til å sikre at dataene er realistiske og pålitelige for videre analyse.\n",
    "- Funksjonen manglendeData håndterer manglende verdier i datasettet ved å bruke forskjellige metoder, avhengig av hva som er valgt:\n",
    "    - \"mean\": Fyller inn manglende verdier med gjennomsnittet for den aktuelle kolonnen.\n",
    "    - \"median\": Fyller inn med medianverdien for kolonnen.\n",
    "    - \"zero\": Fyller inn med 0 for manglende verdier."
   ]
  },
  {
   "cell_type": "code",
   "execution_count": null,
   "id": "6272f3e4",
   "metadata": {},
   "outputs": [
    {
     "name": "stdout",
     "output_type": "stream",
     "text": [
      "              Navn  Stasjon             Tid (t)  Nedbør (mm)  \\\n",
      "0  Oslo - Blindern  SN18700 2024-04-20 00:00:00          NaN   \n",
      "1  Oslo - Blindern  SN18700 2024-04-20 01:00:00          NaN   \n",
      "2  Oslo - Blindern  SN18700 2024-04-20 02:00:00          NaN   \n",
      "3  Oslo - Blindern  SN18700 2024-04-20 03:00:00          NaN   \n",
      "4  Oslo - Blindern  SN18700 2024-04-20 04:00:00          NaN   \n",
      "\n",
      "   Lufttemperatur (C)  Middelvind (m/s)  Relativ luftfuktighet (g/m³)  \n",
      "0                 0.6               2.1                          90.0  \n",
      "1                 0.1               1.0                          93.0  \n",
      "2                -0.6               2.6                          93.0  \n",
      "3                -1.0               2.1                          92.0  \n",
      "4                -1.1               1.1                          92.0  \n"
     ]
    }
   ],
   "source": [
    "# Datafiltrering og rensing\n",
    "def datafiltrering(filepath):\n",
    "    try:\n",
    "        df = pd.read_csv(filepath, delimiter=\";\",encoding=\"utf-8\")\n",
    "        \n",
    "        df[\"Tid (t)\"] = pd.to_datetime(df[\"Tid (t)\"], format=\"%d.%m.%Y %H:%M\", errors=\"coerce\")\n",
    "\n",
    "        num_cols = [\"Nedbør (mm)\", \"Lufttemperatur (C)\", \"Middelvind (m/s)\", \"Relativ luftfuktighet (g/m³)\"]\n",
    "        df[num_cols] = df[num_cols].astype(float)\n",
    "\n",
    "        df.fillna(df.mean(numeric_only=True), inplace=True)\n",
    "\n",
    "    except FileNotFoundError:\n",
    "        print(f\"Filen {filepath} ble ikke funnet.\")\n",
    "        return None\n",
    "\n",
    "    return df\n",
    "\n",
    "filepath = \"../../data/weather_data.csv\"\n",
    "df_cleaned = datafiltrering(filepath)\n",
    "print(df_cleaned.head())"
   ]
  },
  {
   "cell_type": "code",
   "execution_count": null,
   "id": "4e7bc86b",
   "metadata": {},
   "outputs": [],
   "source": [
    "# Fjern ekstreme verdier\n",
    "def ekstremVerdier(df):\n",
    "    df = df[(df[\"Lufttemperatur (C)\"].between(-50, 50))] \n",
    "    df = df[(df[\"Middelvind (m/s)\"].between(0, 115))] \n",
    "    \n",
    "    return df\n",
    "\n",
    "df_cleaned = ekstremVerdier(df_cleaned)\n"
   ]
  },
  {
   "cell_type": "code",
   "execution_count": null,
   "id": "88782a63",
   "metadata": {},
   "outputs": [
    {
     "name": "stdout",
     "output_type": "stream",
     "text": [
      "              Navn  Stasjon             Tid (t)  Nedbør (mm)  \\\n",
      "0  Oslo - Blindern  SN18700 2024-04-20 00:00:00          NaN   \n",
      "1  Oslo - Blindern  SN18700 2024-04-20 01:00:00          NaN   \n",
      "2  Oslo - Blindern  SN18700 2024-04-20 02:00:00          NaN   \n",
      "3  Oslo - Blindern  SN18700 2024-04-20 03:00:00          NaN   \n",
      "4  Oslo - Blindern  SN18700 2024-04-20 04:00:00          NaN   \n",
      "\n",
      "   Lufttemperatur (C)  Middelvind (m/s)  Relativ luftfuktighet (g/m³)  \n",
      "0                 0.6               2.1                          90.0  \n",
      "1                 0.1               1.0                          93.0  \n",
      "2                -0.6               2.6                          93.0  \n",
      "3                -1.0               2.1                          92.0  \n",
      "4                -1.1               1.1                          92.0  \n"
     ]
    }
   ],
   "source": [
    "# Tar i bruk 3 metoder for å fylle inn manglende data\n",
    "def manglendeData(df, method=\"mean\"):\n",
    "\n",
    "    if method == \"mean\":\n",
    "        df.fillna(df.mean(numeric_only=True), inplace=True)\n",
    "    elif method == \"median\":\n",
    "        df.fillna(df.median(numeric_only=True), inplace=True)\n",
    "    elif method == \"zero\":\n",
    "        df.fillna(0, inplace=True)\n",
    "    \n",
    "    return df\n",
    "\n",
    "df_cleaned = manglendeData(df_cleaned, method=\"mean\")\n"
   ]
  }
 ],
 "metadata": {
  "kernelspec": {
   "display_name": ".venv",
   "language": "python",
   "name": "python3"
  },
  "language_info": {
   "codemirror_mode": {
    "name": "ipython",
    "version": 3
   },
   "file_extension": ".py",
   "mimetype": "text/x-python",
   "name": "python",
   "nbconvert_exporter": "python",
   "pygments_lexer": "ipython3",
   "version": "3.13.2"
  }
 },
 "nbformat": 4,
 "nbformat_minor": 5
}
