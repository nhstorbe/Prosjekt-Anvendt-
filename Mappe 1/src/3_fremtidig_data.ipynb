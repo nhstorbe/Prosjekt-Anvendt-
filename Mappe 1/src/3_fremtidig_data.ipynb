{
 "cells": [
  {
   "cell_type": "markdown",
   "metadata": {},
   "source": [
    "# Fremtidsrettet data\n",
    "### Ved hjelp av API\n",
    "\n",
    "\n",
    "Gruppen har brukt data fra [developer.yr.no](https://api.met.no/weatherapi/locationforecast/2.0/documentation). Daten viser vær for gitte plasser i den kommende uken. Den inkluderer blant annet temperatur, vind fart og lufttrykk. Gruppen har valgt å bruke en API fra nettsiden som støtter JSON-filer.\n",
    "Daten viser være for gitte plasser i den kommende uken. \n"
   ]
  },
  {
   "cell_type": "code",
   "execution_count": 1,
   "metadata": {},
   "outputs": [],
   "source": [
    "import pandas as pd\n",
    "import requests"
   ]
  },
  {
   "cell_type": "markdown",
   "metadata": {},
   "source": [
    "Under har gruppen lagt tilgjengelig noen koordinater som kan være enkle å bruke.\n",
    "Her er link til [Google Maps](https://www.google.com/maps) dersom du ønsker å hente inn egne koordinater. "
   ]
  },
  {
   "cell_type": "code",
   "execution_count": 2,
   "metadata": {},
   "outputs": [
    {
     "data": {
      "text/html": [
       "<div>\n",
       "<style scoped>\n",
       "    .dataframe tbody tr th:only-of-type {\n",
       "        vertical-align: middle;\n",
       "    }\n",
       "\n",
       "    .dataframe tbody tr th {\n",
       "        vertical-align: top;\n",
       "    }\n",
       "\n",
       "    .dataframe thead th {\n",
       "        text-align: right;\n",
       "    }\n",
       "</style>\n",
       "<table border=\"1\" class=\"dataframe\">\n",
       "  <thead>\n",
       "    <tr style=\"text-align: right;\">\n",
       "      <th></th>\n",
       "      <th>Plass</th>\n",
       "      <th>Breddegrad</th>\n",
       "      <th>Lengdegrad</th>\n",
       "    </tr>\n",
       "  </thead>\n",
       "  <tbody>\n",
       "    <tr>\n",
       "      <th>0</th>\n",
       "      <td>Stryn</td>\n",
       "      <td>61.904275</td>\n",
       "      <td>6.715641</td>\n",
       "    </tr>\n",
       "    <tr>\n",
       "      <th>1</th>\n",
       "      <td>Paris</td>\n",
       "      <td>48.854289</td>\n",
       "      <td>2.342042</td>\n",
       "    </tr>\n",
       "    <tr>\n",
       "      <th>2</th>\n",
       "      <td>London</td>\n",
       "      <td>51.501814</td>\n",
       "      <td>-0.140605</td>\n",
       "    </tr>\n",
       "    <tr>\n",
       "      <th>3</th>\n",
       "      <td>Cape Town</td>\n",
       "      <td>-33.922348</td>\n",
       "      <td>18.424031</td>\n",
       "    </tr>\n",
       "    <tr>\n",
       "      <th>4</th>\n",
       "      <td>New York</td>\n",
       "      <td>40.710676</td>\n",
       "      <td>-74.006219</td>\n",
       "    </tr>\n",
       "  </tbody>\n",
       "</table>\n",
       "</div>"
      ],
      "text/plain": [
       "       Plass  Breddegrad  Lengdegrad\n",
       "0      Stryn   61.904275    6.715641\n",
       "1      Paris   48.854289    2.342042\n",
       "2     London   51.501814   -0.140605\n",
       "3  Cape Town  -33.922348   18.424031\n",
       "4   New York   40.710676  -74.006219"
      ]
     },
     "execution_count": 2,
     "metadata": {},
     "output_type": "execute_result"
    }
   ],
   "source": [
    "#Breddegrad og lengdegrad er hentet fra Google Maps\n",
    "locations = [\n",
    "    (\"Stryn\", 61.904275, 6.715641),\n",
    "    (\"Paris\", 48.854289, 2.342042),\n",
    "    (\"London\", 51.501814, -0.140605),\n",
    "    (\"Cape Town\", -33.922348, 18.424031),\n",
    "    (\"New York\", 40.710676, -74.006219)\n",
    "]\n",
    "\n",
    "#Lager en oversiktstabell\n",
    "data = []\n",
    "for name, lat, lon in locations:\n",
    "    data.append([name, lat, lon])\n",
    "\n",
    "df = pd.DataFrame(data, columns=[\"Plass\", \"Breddegrad\", \"Lengdegrad\"])\n",
    "df.head()\n"
   ]
  },
  {
   "cell_type": "markdown",
   "metadata": {},
   "source": [
    "# Databehandling\n",
    "De følgende kodene under brukes til å identifisere hull i datasett"
   ]
  },
  {
   "cell_type": "code",
   "execution_count": 26,
   "metadata": {},
   "outputs": [],
   "source": [
    "#Koden lager en JSON fil ut i fra koordinatene som blir puttet inn i linken \n",
    "def make_weatherJSON(lat, lon):\n",
    "    url = f\"https://api.met.no/weatherapi/locationforecast/2.0/compact?lat={lat}&lon={lon}\"\n",
    "    headers = {'User-Agent': 'my-weather-app/1.0'}  #nødvendig for Yr API\n",
    "    response = requests.get(url, headers=headers)\n",
    "    \n",
    "    \n",
    "    if response.status_code != 200:\n",
    "        raise Exception(f\"API call failed with status code {response.status_code}\")\n",
    "    \n",
    "\n",
    "    data = response.json()\n",
    "    return data\n"
   ]
  },
  {
   "cell_type": "code",
   "execution_count": 31,
   "metadata": {},
   "outputs": [
    {
     "data": {
      "text/html": [
       "<div>\n",
       "<style scoped>\n",
       "    .dataframe tbody tr th:only-of-type {\n",
       "        vertical-align: middle;\n",
       "    }\n",
       "\n",
       "    .dataframe tbody tr th {\n",
       "        vertical-align: top;\n",
       "    }\n",
       "\n",
       "    .dataframe thead th {\n",
       "        text-align: right;\n",
       "    }\n",
       "</style>\n",
       "<table border=\"1\" class=\"dataframe\">\n",
       "  <thead>\n",
       "    <tr style=\"text-align: right;\">\n",
       "      <th></th>\n",
       "      <th>Time</th>\n",
       "      <th>Temperature</th>\n",
       "      <th>Rain</th>\n",
       "      <th>Medium wind</th>\n",
       "    </tr>\n",
       "  </thead>\n",
       "  <tbody>\n",
       "    <tr>\n",
       "      <th>0</th>\n",
       "      <td>2025-03-19 14:00:00+00:00</td>\n",
       "      <td>7.3</td>\n",
       "      <td>0.000000</td>\n",
       "      <td>1.8</td>\n",
       "    </tr>\n",
       "    <tr>\n",
       "      <th>1</th>\n",
       "      <td>2025-03-19 15:00:00+00:00</td>\n",
       "      <td>7.2</td>\n",
       "      <td>0.000000</td>\n",
       "      <td>1.7</td>\n",
       "    </tr>\n",
       "    <tr>\n",
       "      <th>2</th>\n",
       "      <td>2025-03-19 16:00:00+00:00</td>\n",
       "      <td>6.6</td>\n",
       "      <td>0.000000</td>\n",
       "      <td>1.8</td>\n",
       "    </tr>\n",
       "    <tr>\n",
       "      <th>3</th>\n",
       "      <td>2025-03-19 17:00:00+00:00</td>\n",
       "      <td>5.3</td>\n",
       "      <td>0.000000</td>\n",
       "      <td>1.6</td>\n",
       "    </tr>\n",
       "    <tr>\n",
       "      <th>4</th>\n",
       "      <td>2025-03-19 18:00:00+00:00</td>\n",
       "      <td>3.3</td>\n",
       "      <td>0.000000</td>\n",
       "      <td>1.4</td>\n",
       "    </tr>\n",
       "    <tr>\n",
       "      <th>...</th>\n",
       "      <td>...</td>\n",
       "      <td>...</td>\n",
       "      <td>...</td>\n",
       "      <td>...</td>\n",
       "    </tr>\n",
       "    <tr>\n",
       "      <th>79</th>\n",
       "      <td>2025-03-28 12:00:00+00:00</td>\n",
       "      <td>9.5</td>\n",
       "      <td>0.007692</td>\n",
       "      <td>0.9</td>\n",
       "    </tr>\n",
       "    <tr>\n",
       "      <th>80</th>\n",
       "      <td>2025-03-28 18:00:00+00:00</td>\n",
       "      <td>6.0</td>\n",
       "      <td>0.007692</td>\n",
       "      <td>0.9</td>\n",
       "    </tr>\n",
       "    <tr>\n",
       "      <th>81</th>\n",
       "      <td>2025-03-29 00:00:00+00:00</td>\n",
       "      <td>3.8</td>\n",
       "      <td>0.007692</td>\n",
       "      <td>0.9</td>\n",
       "    </tr>\n",
       "    <tr>\n",
       "      <th>82</th>\n",
       "      <td>2025-03-29 06:00:00+00:00</td>\n",
       "      <td>3.1</td>\n",
       "      <td>0.007692</td>\n",
       "      <td>1.1</td>\n",
       "    </tr>\n",
       "    <tr>\n",
       "      <th>83</th>\n",
       "      <td>2025-03-29 12:00:00+00:00</td>\n",
       "      <td>10.4</td>\n",
       "      <td>0.007692</td>\n",
       "      <td>0.9</td>\n",
       "    </tr>\n",
       "  </tbody>\n",
       "</table>\n",
       "<p>84 rows × 4 columns</p>\n",
       "</div>"
      ],
      "text/plain": [
       "                        Time  Temperature      Rain  Medium wind\n",
       "0  2025-03-19 14:00:00+00:00          7.3  0.000000          1.8\n",
       "1  2025-03-19 15:00:00+00:00          7.2  0.000000          1.7\n",
       "2  2025-03-19 16:00:00+00:00          6.6  0.000000          1.8\n",
       "3  2025-03-19 17:00:00+00:00          5.3  0.000000          1.6\n",
       "4  2025-03-19 18:00:00+00:00          3.3  0.000000          1.4\n",
       "..                       ...          ...       ...          ...\n",
       "79 2025-03-28 12:00:00+00:00          9.5  0.007692          0.9\n",
       "80 2025-03-28 18:00:00+00:00          6.0  0.007692          0.9\n",
       "81 2025-03-29 00:00:00+00:00          3.8  0.007692          0.9\n",
       "82 2025-03-29 06:00:00+00:00          3.1  0.007692          1.1\n",
       "83 2025-03-29 12:00:00+00:00         10.4  0.007692          0.9\n",
       "\n",
       "[84 rows x 4 columns]"
      ]
     },
     "execution_count": 31,
     "metadata": {},
     "output_type": "execute_result"
    }
   ],
   "source": [
    "#Rydder manglende verdier med fillna()\n",
    "def clean_weather_data(data):\n",
    "    timeseries = data[\"properties\"][\"timeseries\"]\n",
    "\n",
    "    lst = []\n",
    "    for entry in timeseries:\n",
    "        time = entry[\"time\"]\n",
    "        details = entry[\"data\"][\"instant\"][\"details\"]\n",
    "        lst.append({\n",
    "            \"Time\": time,\n",
    "            \"Temperature\": details.get(\"air_temperature\"),\n",
    "            \"Rain\": entry[\"data\"].get(\"next_1_hours\", {}).get(\"details\", {}).get(\"precipitation_amount\"),\n",
    "            \"Medium wind\": details.get(\"wind_speed\")\n",
    "        })\n",
    "\n",
    "    \n",
    "    df = pd.DataFrame(lst)\n",
    "        \n",
    "    #gjør om \"Tid\" til datetime\n",
    "    df[\"Time\"] = pd.to_datetime(df[\"Time\"], errors=\"coerce\")\n",
    "\n",
    "    #fyller inn evt. hull (NaN) med gjennomsnitt\n",
    "    df.fillna(df.mean(numeric_only=True), inplace=True)\n",
    "    \n",
    "    return df\n",
    "\n",
    "clean_weather_data(make_weatherJSON(61.904275, 6.715641))"
   ]
  },
  {
   "cell_type": "code",
   "execution_count": 27,
   "metadata": {},
   "outputs": [
    {
     "name": "stdout",
     "output_type": "stream",
     "text": [
      "Antall NaN-verdier per kolonne:\n",
      "Time              0\n",
      "Temperature       0\n",
      "Rain              0\n",
      "Wind direction    0\n",
      "Medium wind       0\n",
      "dtype: int64\n"
     ]
    },
    {
     "data": {
      "text/plain": [
       "Time              0\n",
       "Temperature       0\n",
       "Rain              0\n",
       "Wind direction    0\n",
       "Medium wind       0\n",
       "dtype: int64"
      ]
     },
     "execution_count": 27,
     "metadata": {},
     "output_type": "execute_result"
    }
   ],
   "source": [
    "#sjekker om det er noen hull i datasettet etterpå\n",
    "def check_NaN_counter(df):\n",
    "    missing_counts = df.isna().sum()\n",
    "    print(\"Antall NaN-verdier per kolonne:\")\n",
    "    print(missing_counts)\n",
    "    return missing_counts\n",
    "\n",
    "data = make_weatherJSON(61.904275, 6.715641)\n",
    "df = clean_weather_data(data)\n",
    "check_NaN_counter(df)"
   ]
  },
  {
   "cell_type": "markdown",
   "metadata": {},
   "source": [
    "Videre under blir hullene i datasettet behandlet"
   ]
  },
  {
   "cell_type": "code",
   "execution_count": null,
   "metadata": {},
   "outputs": [],
   "source": [
    "#MANGLER LIST COMPERHENTSION \n",
    "#MANGLER PANDAS SQL"
   ]
  }
 ],
 "metadata": {
  "kernelspec": {
   "display_name": "Python 3",
   "language": "python",
   "name": "python3"
  },
  "language_info": {
   "codemirror_mode": {
    "name": "ipython",
    "version": 3
   },
   "file_extension": ".py",
   "mimetype": "text/x-python",
   "name": "python",
   "nbconvert_exporter": "python",
   "pygments_lexer": "ipython3",
   "version": "3.13.2"
  }
 },
 "nbformat": 4,
 "nbformat_minor": 2
}
