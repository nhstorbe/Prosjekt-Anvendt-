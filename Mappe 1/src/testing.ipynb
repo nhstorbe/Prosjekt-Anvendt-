{
 "cells": [
  {
   "cell_type": "markdown",
   "metadata": {},
   "source": [
    "# Analyse av historisk værdata i Stryn\n"
   ]
  },
  {
   "cell_type": "code",
   "execution_count": 38,
   "metadata": {},
   "outputs": [],
   "source": [
    "import pandas as pd \n",
    "import os\n",
    "from pandasql import sqldf"
   ]
  },
  {
   "cell_type": "code",
   "execution_count": 46,
   "metadata": {},
   "outputs": [
    {
     "name": "stdout",
     "output_type": "stream",
     "text": [
      "             Navn  Stasjon Tid(norsk normaltid) Nedbør (1 t) Lufttemperatur  \\\n",
      "0  Stryn - Kroken  SN58900     01.03.2024 01:00            0            7,3   \n",
      "1  Stryn - Kroken  SN58900     01.03.2024 02:00            0            6,3   \n",
      "2  Stryn - Kroken  SN58900     01.03.2024 03:00            0            7,1   \n",
      "3  Stryn - Kroken  SN58900     01.03.2024 04:00            0            6,3   \n",
      "4  Stryn - Kroken  SN58900     01.03.2024 05:00            0            5,2   \n",
      "\n",
      "  Vindretning Middelvind  \n",
      "0          84        1,6  \n",
      "1          25        0,6  \n",
      "2         119        1,6  \n",
      "3         268        1,5  \n",
      "4         224        0,4  \n"
     ]
    }
   ],
   "source": [
    "df = pd.read_csv(\"../data/table.csv\",delimiter=';')\n",
    "df = df.dropna()\n",
    "#df = df.drop(columns=[\"Nedbør (1 t)\"])\n",
    "print(df.head())"
   ]
  },
  {
   "cell_type": "markdown",
   "metadata": {},
   "source": [
    "Under skjekker vi hvilke rader som mangler verdier, slik at vi kan fylle dem med hjelp av forskjellige metoder. Dette er en fin måte å filtrere data på og finne hull i datasettet. En god metode for å fylle tomrom rom er å ta i bruk mooving average som tar gjennomsnitte av X antal timer før og bruker det som verdi. Her ser vi at vi mangler 1 verdi for hver av kolonnene. Det viser seg å være den siste raden i csv filen vår som er en setning \"Data er gyldig per 16.03.2025 (CC BY 4.0), Meteorologisk institutt (MET);;;;;;\". Denne setningen har vi valgt å fjerne i kodesnuten over."
   ]
  },
  {
   "cell_type": "code",
   "execution_count": 47,
   "metadata": {},
   "outputs": [
    {
     "name": "stdout",
     "output_type": "stream",
     "text": [
      "Navn                    0\n",
      "Stasjon                 0\n",
      "Tid(norsk normaltid)    0\n",
      "Nedbør (1 t)            0\n",
      "Lufttemperatur          0\n",
      "Vindretning             0\n",
      "Middelvind              0\n",
      "dtype: int64\n"
     ]
    }
   ],
   "source": [
    "print(df.isnull().sum())"
   ]
  },
  {
   "cell_type": "code",
   "execution_count": 48,
   "metadata": {},
   "outputs": [
    {
     "name": "stdout",
     "output_type": "stream",
     "text": [
      "Empty DataFrame\n",
      "Columns: [Navn, Stasjon, Tid(norsk normaltid), Nedbør (1 t), Lufttemperatur, Vindretning, Middelvind]\n",
      "Index: []\n"
     ]
    }
   ],
   "source": [
    "print(df[df.isnull().any(axis=1)])"
   ]
  },
  {
   "cell_type": "markdown",
   "metadata": {},
   "source": [
    "## For å forstå dataens struktur og innhold har vi benyttet oss av diverse funksjoner \n",
    "- Først ser vi på innholde ved hjelp av list comprehensions og trekker ut temperaturene fra DataFramen.\n",
    "- Videre tar vi i bruk en iterator til å gå gjennom DataFramen.\n",
    "- Til slutt bruker vi Pandasql for å filtere og analysere dataen "
   ]
  },
  {
   "cell_type": "code",
   "execution_count": 42,
   "metadata": {},
   "outputs": [
    {
     "name": "stdout",
     "output_type": "stream",
     "text": [
      "['7,3', '6,3', '7,1', '6,3', '5,2', '4', '3,1', '2,6', '3,3', '4,9']\n"
     ]
    }
   ],
   "source": [
    "#List \n",
    "temperatures = [temp for temp in df[\"Lufttemperatur\"] if temp is not None]\n",
    "print(temperatures[:10]) "
   ]
  },
  {
   "cell_type": "code",
   "execution_count": 43,
   "metadata": {},
   "outputs": [
    {
     "name": "stdout",
     "output_type": "stream",
     "text": [
      "Stasjon: SN58900, Tid: 01.03.2024 01:00, Temperatur: 7,3°C\n",
      "Stasjon: SN58900, Tid: 01.03.2024 02:00, Temperatur: 6,3°C\n",
      "Stasjon: SN58900, Tid: 01.03.2024 03:00, Temperatur: 7,1°C\n",
      "Stasjon: SN58900, Tid: 01.03.2024 04:00, Temperatur: 6,3°C\n",
      "Stasjon: SN58900, Tid: 01.03.2024 05:00, Temperatur: 5,2°C\n",
      "Stasjon: SN58900, Tid: 01.03.2024 06:00, Temperatur: 4°C\n"
     ]
    }
   ],
   "source": [
    "#Iterator\n",
    "for index, row in df.iterrows():\n",
    "    print(f\"Stasjon: {row['Stasjon']}, Tid: {row['Tid(norsk normaltid)']}, Temperatur: {row['Lufttemperatur']}°C\")\n",
    "    if index == 5: \n",
    "        break\n",
    "\n",
    "    "
   ]
  },
  {
   "cell_type": "code",
   "execution_count": 44,
   "metadata": {},
   "outputs": [
    {
     "name": "stdout",
     "output_type": "stream",
     "text": [
      "  Tid(norsk normaltid) Middelvind\n",
      "0     16.11.2024 17:00        5,5\n",
      "1     05.12.2024 13:00        5,4\n",
      "2     15.12.2024 19:00        5,1\n"
     ]
    }
   ],
   "source": [
    "#Pandasql\n",
    "vind = \"SELECT `Tid(norsk normaltid)`, Middelvind FROM df WHERE Middelvind > 5\"\n",
    "result = sqldf(vind)\n",
    "\n",
    "print(result.head())"
   ]
  },
  {
   "cell_type": "markdown",
   "metadata": {},
   "source": [
    "# OPPGAVE 3 Databehandling "
   ]
  },
  {
   "cell_type": "code",
   "execution_count": 45,
   "metadata": {},
   "outputs": [
    {
     "ename": "KeyError",
     "evalue": "'Tid(norsk normaltid)'",
     "output_type": "error",
     "traceback": [
      "\u001b[31m---------------------------------------------------------------------------\u001b[39m",
      "\u001b[31mKeyError\u001b[39m                                  Traceback (most recent call last)",
      "\u001b[36mFile \u001b[39m\u001b[32mc:\\Users\\Eier\\Documents\\NTNU\\S4\\Anvendt programmering\\Prosjekt-Anvendt-\\myenv\\Lib\\site-packages\\pandas\\core\\indexes\\base.py:3805\u001b[39m, in \u001b[36mIndex.get_loc\u001b[39m\u001b[34m(self, key)\u001b[39m\n\u001b[32m   3804\u001b[39m \u001b[38;5;28;01mtry\u001b[39;00m:\n\u001b[32m-> \u001b[39m\u001b[32m3805\u001b[39m     \u001b[38;5;28;01mreturn\u001b[39;00m \u001b[38;5;28;43mself\u001b[39;49m\u001b[43m.\u001b[49m\u001b[43m_engine\u001b[49m\u001b[43m.\u001b[49m\u001b[43mget_loc\u001b[49m\u001b[43m(\u001b[49m\u001b[43mcasted_key\u001b[49m\u001b[43m)\u001b[49m\n\u001b[32m   3806\u001b[39m \u001b[38;5;28;01mexcept\u001b[39;00m \u001b[38;5;167;01mKeyError\u001b[39;00m \u001b[38;5;28;01mas\u001b[39;00m err:\n",
      "\u001b[36mFile \u001b[39m\u001b[32mindex.pyx:167\u001b[39m, in \u001b[36mpandas._libs.index.IndexEngine.get_loc\u001b[39m\u001b[34m()\u001b[39m\n",
      "\u001b[36mFile \u001b[39m\u001b[32mindex.pyx:196\u001b[39m, in \u001b[36mpandas._libs.index.IndexEngine.get_loc\u001b[39m\u001b[34m()\u001b[39m\n",
      "\u001b[36mFile \u001b[39m\u001b[32mpandas\\\\_libs\\\\hashtable_class_helper.pxi:7081\u001b[39m, in \u001b[36mpandas._libs.hashtable.PyObjectHashTable.get_item\u001b[39m\u001b[34m()\u001b[39m\n",
      "\u001b[36mFile \u001b[39m\u001b[32mpandas\\\\_libs\\\\hashtable_class_helper.pxi:7089\u001b[39m, in \u001b[36mpandas._libs.hashtable.PyObjectHashTable.get_item\u001b[39m\u001b[34m()\u001b[39m\n",
      "\u001b[31mKeyError\u001b[39m: 'Tid(norsk normaltid)'",
      "\nThe above exception was the direct cause of the following exception:\n",
      "\u001b[31mKeyError\u001b[39m                                  Traceback (most recent call last)",
      "\u001b[36mCell\u001b[39m\u001b[36m \u001b[39m\u001b[32mIn[45]\u001b[39m\u001b[32m, line 18\u001b[39m\n\u001b[32m     15\u001b[39m     \u001b[38;5;28;01mreturn\u001b[39;00m df\n\u001b[32m     17\u001b[39m filepath = \u001b[33m\"\u001b[39m\u001b[33m../data/table.csv\u001b[39m\u001b[33m\"\u001b[39m \n\u001b[32m---> \u001b[39m\u001b[32m18\u001b[39m df_cleaned = \u001b[43mload_and_clean_csv\u001b[49m\u001b[43m(\u001b[49m\u001b[43mfilepath\u001b[49m\u001b[43m)\u001b[49m\n\u001b[32m     19\u001b[39m \u001b[38;5;28mprint\u001b[39m(df_cleaned.head())\n",
      "\u001b[36mCell\u001b[39m\u001b[36m \u001b[39m\u001b[32mIn[45]\u001b[39m\u001b[32m, line 6\u001b[39m, in \u001b[36mload_and_clean_csv\u001b[39m\u001b[34m(filepath)\u001b[39m\n\u001b[32m      3\u001b[39m df.columns = [\u001b[33m\"\u001b[39m\u001b[33mNavn\u001b[39m\u001b[33m\"\u001b[39m, \u001b[33m\"\u001b[39m\u001b[33mStasjon\u001b[39m\u001b[33m\"\u001b[39m, \u001b[33m\"\u001b[39m\u001b[33mTid\u001b[39m\u001b[33m\"\u001b[39m, \u001b[33m\"\u001b[39m\u001b[33mNedbør\u001b[39m\u001b[33m\"\u001b[39m, \u001b[33m\"\u001b[39m\u001b[33mLufttemperatur\u001b[39m\u001b[33m\"\u001b[39m, \u001b[33m\"\u001b[39m\u001b[33mVindretning\u001b[39m\u001b[33m\"\u001b[39m, \u001b[33m\"\u001b[39m\u001b[33mMiddelvind\u001b[39m\u001b[33m\"\u001b[39m]\n\u001b[32m      5\u001b[39m \u001b[38;5;66;03m# Gjør om \"Tid\" til datetime-format\u001b[39;00m\n\u001b[32m----> \u001b[39m\u001b[32m6\u001b[39m df[\u001b[33m\"\u001b[39m\u001b[33mTid(norsk normaltid)\u001b[39m\u001b[33m\"\u001b[39m] = pd.to_datetime(\u001b[43mdf\u001b[49m\u001b[43m[\u001b[49m\u001b[33;43m\"\u001b[39;49m\u001b[33;43mTid(norsk normaltid)\u001b[39;49m\u001b[33;43m\"\u001b[39;49m\u001b[43m]\u001b[49m, \u001b[38;5;28mformat\u001b[39m=\u001b[33m\"\u001b[39m\u001b[38;5;132;01m%d\u001b[39;00m\u001b[33m.\u001b[39m\u001b[33m%\u001b[39m\u001b[33mm.\u001b[39m\u001b[33m%\u001b[39m\u001b[33mY \u001b[39m\u001b[33m%\u001b[39m\u001b[33mH:\u001b[39m\u001b[33m%\u001b[39m\u001b[33mM\u001b[39m\u001b[33m\"\u001b[39m, errors=\u001b[33m\"\u001b[39m\u001b[33mcoerce\u001b[39m\u001b[33m\"\u001b[39m)\n\u001b[32m      8\u001b[39m \u001b[38;5;66;03m# Gjør om de numeriske kolonnene til float\u001b[39;00m\n\u001b[32m      9\u001b[39m num_cols = [\u001b[33m\"\u001b[39m\u001b[33mNedbør\u001b[39m\u001b[33m\"\u001b[39m, \u001b[33m\"\u001b[39m\u001b[33mLufttemperatur\u001b[39m\u001b[33m\"\u001b[39m, \u001b[33m\"\u001b[39m\u001b[33mVindretning\u001b[39m\u001b[33m\"\u001b[39m, \u001b[33m\"\u001b[39m\u001b[33mMiddelvind\u001b[39m\u001b[33m\"\u001b[39m]\n",
      "\u001b[36mFile \u001b[39m\u001b[32mc:\\Users\\Eier\\Documents\\NTNU\\S4\\Anvendt programmering\\Prosjekt-Anvendt-\\myenv\\Lib\\site-packages\\pandas\\core\\frame.py:4102\u001b[39m, in \u001b[36mDataFrame.__getitem__\u001b[39m\u001b[34m(self, key)\u001b[39m\n\u001b[32m   4100\u001b[39m \u001b[38;5;28;01mif\u001b[39;00m \u001b[38;5;28mself\u001b[39m.columns.nlevels > \u001b[32m1\u001b[39m:\n\u001b[32m   4101\u001b[39m     \u001b[38;5;28;01mreturn\u001b[39;00m \u001b[38;5;28mself\u001b[39m._getitem_multilevel(key)\n\u001b[32m-> \u001b[39m\u001b[32m4102\u001b[39m indexer = \u001b[38;5;28;43mself\u001b[39;49m\u001b[43m.\u001b[49m\u001b[43mcolumns\u001b[49m\u001b[43m.\u001b[49m\u001b[43mget_loc\u001b[49m\u001b[43m(\u001b[49m\u001b[43mkey\u001b[49m\u001b[43m)\u001b[49m\n\u001b[32m   4103\u001b[39m \u001b[38;5;28;01mif\u001b[39;00m is_integer(indexer):\n\u001b[32m   4104\u001b[39m     indexer = [indexer]\n",
      "\u001b[36mFile \u001b[39m\u001b[32mc:\\Users\\Eier\\Documents\\NTNU\\S4\\Anvendt programmering\\Prosjekt-Anvendt-\\myenv\\Lib\\site-packages\\pandas\\core\\indexes\\base.py:3812\u001b[39m, in \u001b[36mIndex.get_loc\u001b[39m\u001b[34m(self, key)\u001b[39m\n\u001b[32m   3807\u001b[39m     \u001b[38;5;28;01mif\u001b[39;00m \u001b[38;5;28misinstance\u001b[39m(casted_key, \u001b[38;5;28mslice\u001b[39m) \u001b[38;5;129;01mor\u001b[39;00m (\n\u001b[32m   3808\u001b[39m         \u001b[38;5;28misinstance\u001b[39m(casted_key, abc.Iterable)\n\u001b[32m   3809\u001b[39m         \u001b[38;5;129;01mand\u001b[39;00m \u001b[38;5;28many\u001b[39m(\u001b[38;5;28misinstance\u001b[39m(x, \u001b[38;5;28mslice\u001b[39m) \u001b[38;5;28;01mfor\u001b[39;00m x \u001b[38;5;129;01min\u001b[39;00m casted_key)\n\u001b[32m   3810\u001b[39m     ):\n\u001b[32m   3811\u001b[39m         \u001b[38;5;28;01mraise\u001b[39;00m InvalidIndexError(key)\n\u001b[32m-> \u001b[39m\u001b[32m3812\u001b[39m     \u001b[38;5;28;01mraise\u001b[39;00m \u001b[38;5;167;01mKeyError\u001b[39;00m(key) \u001b[38;5;28;01mfrom\u001b[39;00m\u001b[38;5;250m \u001b[39m\u001b[34;01merr\u001b[39;00m\n\u001b[32m   3813\u001b[39m \u001b[38;5;28;01mexcept\u001b[39;00m \u001b[38;5;167;01mTypeError\u001b[39;00m:\n\u001b[32m   3814\u001b[39m     \u001b[38;5;66;03m# If we have a listlike key, _check_indexing_error will raise\u001b[39;00m\n\u001b[32m   3815\u001b[39m     \u001b[38;5;66;03m#  InvalidIndexError. Otherwise we fall through and re-raise\u001b[39;00m\n\u001b[32m   3816\u001b[39m     \u001b[38;5;66;03m#  the TypeError.\u001b[39;00m\n\u001b[32m   3817\u001b[39m     \u001b[38;5;28mself\u001b[39m._check_indexing_error(key)\n",
      "\u001b[31mKeyError\u001b[39m: 'Tid(norsk normaltid)'"
     ]
    }
   ],
   "source": [
    "def load_and_clean_csv(filepath):\n",
    "    # Skriver inn nye kolonnenavn\n",
    "    df.columns = [\"Navn\", \"Stasjon\", \"Tid\", \"Nedbør\", \"Lufttemperatur\", \"Vindretning\", \"Middelvind\"]\n",
    "\n",
    "    # Gjør om \"Tid\" til datetime-format\n",
    "    df[\"Tid(norsk normaltid)\"] = pd.to_datetime(df[\"Tid(norsk normaltid)\"], format=\"%d.%m.%Y %H:%M\", errors=\"coerce\")\n",
    "    \n",
    "    # Gjør om de numeriske kolonnene til float\n",
    "    num_cols = [\"Nedbør\", \"Lufttemperatur\", \"Vindretning\", \"Middelvind\"]\n",
    "    df[num_cols] = df[num_cols].astype(float)\n",
    "\n",
    "    # Fyll inn eventuelle manglende verdier \n",
    "    df.fillna(df.mean(numeric_only=True), inplace=True)\n",
    "\n",
    "    return df\n",
    "\n",
    "filepath = \"../data/table.csv\" \n",
    "df_cleaned = load_and_clean_csv(filepath)\n",
    "print(df_cleaned.head())"
   ]
  },
  {
   "cell_type": "code",
   "execution_count": null,
   "metadata": {},
   "outputs": [
    {
     "ename": "NameError",
     "evalue": "name 'df_cleaned' is not defined",
     "output_type": "error",
     "traceback": [
      "\u001b[31m---------------------------------------------------------------------------\u001b[39m",
      "\u001b[31mNameError\u001b[39m                                 Traceback (most recent call last)",
      "\u001b[36mCell\u001b[39m\u001b[36m \u001b[39m\u001b[32mIn[36]\u001b[39m\u001b[32m, line 10\u001b[39m\n\u001b[32m      6\u001b[39m     df = df[(df[\u001b[33m\"\u001b[39m\u001b[33mVindretning\u001b[39m\u001b[33m\"\u001b[39m].between(\u001b[32m0\u001b[39m, \u001b[32m360\u001b[39m))]  \u001b[38;5;66;03m# Vindretning må være mellom 0° og 360°\u001b[39;00m\n\u001b[32m      8\u001b[39m     \u001b[38;5;28;01mreturn\u001b[39;00m df\n\u001b[32m---> \u001b[39m\u001b[32m10\u001b[39m df_cleaned = remove_outliers(\u001b[43mdf_cleaned\u001b[49m)\n\u001b[32m     11\u001b[39m \u001b[38;5;66;03m#df_cleaned.to_csv(\"renset_værdata.csv\", index=False)\u001b[39;00m\n",
      "\u001b[31mNameError\u001b[39m: name 'df_cleaned' is not defined"
     ]
    }
   ],
   "source": [
    "def remove_outliers(df):\n",
    "    \"\"\"\n",
    "    Fjerner urealistiske verdier i datasettene.\n",
    "    \"\"\"\n",
    "    df = df[(df[\"Lufttemperatur\"].between(-50, 50))]  # Temperatur bør være mellom -50 og 50 °C\n",
    "    df = df[(df[\"Vindretning\"].between(0, 360))]  # Vindretning må være mellom 0° og 360°\n",
    "    \n",
    "    return df\n",
    "\n",
    "df_cleaned = remove_outliers(df_cleaned)\n",
    "#df_cleaned.to_csv(\"renset_værdata.csv\", index=False)\n"
   ]
  },
  {
   "cell_type": "code",
   "execution_count": null,
   "metadata": {},
   "outputs": [
    {
     "ename": "NameError",
     "evalue": "name 'df_cleaned' is not defined",
     "output_type": "error",
     "traceback": [
      "\u001b[31m---------------------------------------------------------------------------\u001b[39m",
      "\u001b[31mNameError\u001b[39m                                 Traceback (most recent call last)",
      "\u001b[36mCell\u001b[39m\u001b[36m \u001b[39m\u001b[32mIn[37]\u001b[39m\u001b[32m, line 16\u001b[39m\n\u001b[32m     12\u001b[39m         df.fillna(\u001b[32m0\u001b[39m, inplace=\u001b[38;5;28;01mTrue\u001b[39;00m)\n\u001b[32m     14\u001b[39m     \u001b[38;5;28;01mreturn\u001b[39;00m df\n\u001b[32m---> \u001b[39m\u001b[32m16\u001b[39m df_cleaned = handle_missing_data(\u001b[43mdf_cleaned\u001b[49m, method=\u001b[33m\"\u001b[39m\u001b[33mmedian\u001b[39m\u001b[33m\"\u001b[39m)\n",
      "\u001b[31mNameError\u001b[39m: name 'df_cleaned' is not defined"
     ]
    }
   ],
   "source": [
    "#Kanksje bruke\n",
    "def handle_missing_data(df, method=\"mean\"):\n",
    "    \"\"\"\n",
    "    Fyller inn manglende verdier i numeriske kolonner.\n",
    "    method: \"mean\" (gjennomsnitt), \"median\" (median), \"zero\" (fyll med 0)\n",
    "    \"\"\"\n",
    "    if method == \"mean\":\n",
    "        df.fillna(df.mean(numeric_only=True), inplace=True)\n",
    "    elif method == \"median\":\n",
    "        df.fillna(df.median(numeric_only=True), inplace=True)\n",
    "    elif method == \"zero\":\n",
    "        df.fillna(0, inplace=True)\n",
    "    \n",
    "    return df\n",
    "\n",
    "df_cleaned = handle_missing_data(df_cleaned, method=\"median\")\n"
   ]
  }
 ],
 "metadata": {
  "kernelspec": {
   "display_name": "myenv",
   "language": "python",
   "name": "python3"
  },
  "language_info": {
   "codemirror_mode": {
    "name": "ipython",
    "version": 3
   },
   "file_extension": ".py",
   "mimetype": "text/x-python",
   "name": "python",
   "nbconvert_exporter": "python",
   "pygments_lexer": "ipython3",
   "version": "3.13.2"
  }
 },
 "nbformat": 4,
 "nbformat_minor": 2
}
