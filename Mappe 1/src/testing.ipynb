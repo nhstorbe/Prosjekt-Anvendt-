{
 "cells": [
  {
   "cell_type": "markdown",
   "metadata": {},
   "source": [
    "# Analyse av historisk værdata i Stryn\n"
   ]
  },
  {
   "cell_type": "code",
   "execution_count": null,
   "metadata": {},
   "outputs": [
    {
     "ename": "",
     "evalue": "",
     "output_type": "error",
     "traceback": [
      "\u001b[1;31mThe Kernel crashed while executing code in the current cell or a previous cell. \n",
      "\u001b[1;31mPlease review the code in the cell(s) to identify a possible cause of the failure. \n",
      "\u001b[1;31mClick <a href='https://aka.ms/vscodeJupyterKernelCrash'>here</a> for more info. \n",
      "\u001b[1;31mView Jupyter <a href='command:jupyter.viewOutput'>log</a> for further details."
     ]
    }
   ],
   "source": [
    "import pandas as pd \n",
    "import os\n",
    "from pandasql import sqldf"
   ]
  },
  {
   "cell_type": "markdown",
   "metadata": {},
   "source": [
    "##Datakilder\n",
    "\n",
    "Gjennom internett kan en finne en stor mengde brukbare kilder på relevant data til dette prosjektet. Av den grunn trenger en å spisse seg inn mot den mest relevante. Det viktigste kriteriet i relasjon til kildevalg for oss er kildeautoritet. Av den grunn så vi først på offentlige, og statlige kilder. Vi så av den grunn på [yr](https://www.yr.no), [NOAA](https://www.ncei.noaa.gov/cdo-web/datasets) og [Meterologiask institutt](https://www.met.no/en/free-meteorological-data). Vi valgte i første omgang disse nettstedene da de enten er internasjonalt annerkjente organisasjoner, eller statlige meterologiske institusjoner. Vi følte av den grunn at alle tre var pålitelige kilder med god autoritet og datatilgang. Da dataene fra sidene enten er hentet fra eller brukes til aktiv forskning har vi også god tiltro til kvaliteten på dataen. Vi valgte å bruke yr grunnet at de tok i bruk .json format, og at å få tak i dataen fra deres nettside var lettest. \n",
    "\n",
    "Vi vlagte .json format av flere grunner. De grunnleggende formene en ofte tar i bruk for prosjekter av denne typen virket å være .csv, .json og .xml. Da vi ikke har mye kunnskap til .xml, og formatet har en mulig kompleksitet som går langt forbi våre krav, på god bekostning av filstørrelse. .csv(comma seperated values)-filer er den simpleste typen data-fil som er vanlig å ta i bruk. En .csv-fil inneholder linjer med data separert med \",\" og er derfor svært leselige for mennesker, og veldig lett å sette inn i excel-filer. .json(Javascript Object Notation)-filer er tekstbaserte, simple og effektive. .json er ikke like effektive størrelsesmessig som .csv, men nært..json er bygd opp av arrays og objekter. En ser ofte objekt etter objekt som inneholder lik data om tilsvarende situasjon over tid, f.eks \n",
    "\n",
    "{\n",
    "    \"temp\": \"30*C\",\n",
    "    \"wind\": \"5m/s\",\n",
    "    \"wind.direction\": \"NE\"\n",
    "}\n",
    "\n",
    ".json er også ganske leselig for mennesker, og relativt lett å håndtere datamessig. Formatet er også flexibelt og bredt kompatibelt med forskjellige formler. Vi valgte .json fordi det ga økt flexibilitet og kompatibilitet i forhold til .csv, med minimal økninig i filstørrelse og leselighet. \n",
    "\n",
    "Vi har brukt en API støttet .json fil nettopp fordi vi da alltid vil ha filen automatisk oppdatert.  "
   ]
  },
  {
   "cell_type": "code",
   "execution_count": null,
   "metadata": {},
   "outputs": [
    {
     "name": "stdout",
     "output_type": "stream",
     "text": [
      "             Navn  Stasjon Tid(norsk normaltid) Nedbør (1 t) Lufttemperatur  \\\n",
      "0  Stryn - Kroken  SN58900     01.03.2024 01:00            0            7,3   \n",
      "1  Stryn - Kroken  SN58900     01.03.2024 02:00            0            6,3   \n",
      "2  Stryn - Kroken  SN58900     01.03.2024 03:00            0            7,1   \n",
      "3  Stryn - Kroken  SN58900     01.03.2024 04:00            0            6,3   \n",
      "4  Stryn - Kroken  SN58900     01.03.2024 05:00            0            5,2   \n",
      "\n",
      "  Vindretning Middelvind  \n",
      "0          84        1,6  \n",
      "1          25        0,6  \n",
      "2         119        1,6  \n",
      "3         268        1,5  \n",
      "4         224        0,4  \n"
     ]
    }
   ],
   "source": [
    "df = pd.read_csv(\"../data/table.csv\",delimiter=';')\n",
    "df = df.dropna()\n",
    "#df = df.drop(columns=[\"Nedbør (1 t)\"])\n",
    "print(df.head())"
   ]
  },
  {
   "cell_type": "markdown",
   "metadata": {},
   "source": [
    "Under skjekker vi hvilke rader som mangler verdier, slik at vi kan fylle dem med hjelp av forskjellige metoder. Dette er en fin måte å filtrere data på og finne hull i datasettet. En god metode for å fylle tomrom rom er å ta i bruk mooving average som tar gjennomsnitte av X antal timer før og bruker det som verdi. Her ser vi at vi mangler 1 verdi for hver av kolonnene. Det viser seg å være den siste raden i csv filen vår som er en setning \"Data er gyldig per 16.03.2025 (CC BY 4.0), Meteorologisk institutt (MET);;;;;;\". Denne setningen har vi valgt å fjerne i kodesnuten over."
   ]
  },
  {
   "cell_type": "code",
   "execution_count": null,
   "metadata": {},
   "outputs": [
    {
     "name": "stdout",
     "output_type": "stream",
     "text": [
      "Navn                    0\n",
      "Stasjon                 0\n",
      "Tid(norsk normaltid)    0\n",
      "Nedbør (1 t)            0\n",
      "Lufttemperatur          0\n",
      "Vindretning             0\n",
      "Middelvind              0\n",
      "dtype: int64\n"
     ]
    }
   ],
   "source": [
    "print(df.isnull().sum())"
   ]
  },
  {
   "cell_type": "code",
   "execution_count": null,
   "metadata": {},
   "outputs": [
    {
     "name": "stdout",
     "output_type": "stream",
     "text": [
      "Empty DataFrame\n",
      "Columns: [Navn, Stasjon, Tid(norsk normaltid), Nedbør (1 t), Lufttemperatur, Vindretning, Middelvind]\n",
      "Index: []\n"
     ]
    }
   ],
   "source": [
    "print(df[df.isnull().any(axis=1)])"
   ]
  },
  {
   "cell_type": "markdown",
   "metadata": {},
   "source": [
    "## For å forstå dataens struktur og innhold har vi benyttet oss av diverse funksjoner \n",
    "- Først ser vi på innholde ved hjelp av list comprehensions og trekker ut temperaturene fra DataFramen.\n",
    "- Videre tar vi i bruk en iterator til å gå gjennom DataFramen.\n",
    "- Til slutt bruker vi Pandasql for å filtere og analysere dataen "
   ]
  },
  {
   "cell_type": "code",
   "execution_count": null,
   "metadata": {},
   "outputs": [
    {
     "name": "stdout",
     "output_type": "stream",
     "text": [
      "['7,3', '6,3', '7,1', '6,3', '5,2', '4', '3,1', '2,6', '3,3', '4,9']\n"
     ]
    }
   ],
   "source": [
    "#List \n",
    "temperatures = [temp for temp in df[\"Lufttemperatur\"] if temp is not None]\n",
    "print(temperatures[:10]) "
   ]
  },
  {
   "cell_type": "code",
   "execution_count": null,
   "metadata": {},
   "outputs": [
    {
     "name": "stdout",
     "output_type": "stream",
     "text": [
      "Stasjon: SN58900, Tid: 01.03.2024 01:00, Temperatur: 7,3°C\n",
      "Stasjon: SN58900, Tid: 01.03.2024 02:00, Temperatur: 6,3°C\n",
      "Stasjon: SN58900, Tid: 01.03.2024 03:00, Temperatur: 7,1°C\n",
      "Stasjon: SN58900, Tid: 01.03.2024 04:00, Temperatur: 6,3°C\n",
      "Stasjon: SN58900, Tid: 01.03.2024 05:00, Temperatur: 5,2°C\n",
      "Stasjon: SN58900, Tid: 01.03.2024 06:00, Temperatur: 4°C\n"
     ]
    }
   ],
   "source": [
    "#Iterator\n",
    "for index, row in df.iterrows():\n",
    "    print(f\"Stasjon: {row['Stasjon']}, Tid: {row['Tid(norsk normaltid)']}, Temperatur: {row['Lufttemperatur']}°C\")\n",
    "    if index == 5: \n",
    "        break\n",
    "\n",
    "    "
   ]
  },
  {
   "cell_type": "code",
   "execution_count": null,
   "metadata": {},
   "outputs": [
    {
     "name": "stdout",
     "output_type": "stream",
     "text": [
      "  Tid(norsk normaltid) Middelvind\n",
      "0     16.11.2024 17:00        5,5\n",
      "1     05.12.2024 13:00        5,4\n",
      "2     15.12.2024 19:00        5,1\n"
     ]
    }
   ],
   "source": [
    "#Pandasql\n",
    "vind = \"SELECT `Tid(norsk normaltid)`, Middelvind FROM df WHERE Middelvind > 5\"\n",
    "result = sqldf(vind)\n",
    "\n",
    "print(result.head())"
   ]
  },
  {
   "cell_type": "markdown",
   "metadata": {},
   "source": [
    "# OPPGAVE 3 Databehandling "
   ]
  },
  {
   "cell_type": "code",
   "execution_count": 74,
   "metadata": {},
   "outputs": [
    {
     "name": "stdout",
     "output_type": "stream",
     "text": [
      "             Navn  Stasjon                 Tid  Nedbør  Lufttemperatur  \\\n",
      "0  Stryn - Kroken  SN58900 2024-03-01 01:00:00     0.0             7.3   \n",
      "1  Stryn - Kroken  SN58900 2024-03-01 02:00:00     0.0             6.3   \n",
      "2  Stryn - Kroken  SN58900 2024-03-01 03:00:00     0.0             7.1   \n",
      "3  Stryn - Kroken  SN58900 2024-03-01 04:00:00     0.0             6.3   \n",
      "4  Stryn - Kroken  SN58900 2024-03-01 05:00:00     0.0             5.2   \n",
      "\n",
      "   Vindretning  Middelvind  \n",
      "0         84.0         1.6  \n",
      "1         25.0         0.6  \n",
      "2        119.0         1.6  \n",
      "3        268.0         1.5  \n",
      "4        224.0         0.4  \n"
     ]
    }
   ],
   "source": [
    "#Filtrering\n",
    "def datafiltrering(filepath):\n",
    "    # Leser inn CSV-filen med riktig spesifikasjoner \n",
    "    df = pd.read_csv(filepath, delimiter=\";\", decimal=\",\", na_values=[\"\", \"NaN\", \"nan\", \"null\", \"-\"])\n",
    "\n",
    "    # Gi kolonnene nye navn\n",
    "    df.columns = [\"Navn\", \"Stasjon\", \"Tid\", \"Nedbør\", \"Lufttemperatur\", \"Vindretning\", \"Middelvind\"]\n",
    "\n",
    "    # Formaterer dato-tid kolonnen\n",
    "    df[\"Tid\"] = pd.to_datetime(df[\"Tid\"], format=\"%d.%m.%Y %H:%M\", errors=\"coerce\")\n",
    "\n",
    "    # Gjør om numeriske kolonner til float\n",
    "    num_cols = [\"Nedbør\", \"Lufttemperatur\", \"Vindretning\", \"Middelvind\"]\n",
    "    df[num_cols] = df[num_cols].astype(float)\n",
    "\n",
    "    # Fyll inn potentielle manglende verdier ved å regne ut gjennomsnittet av kolonnen\n",
    "    df.fillna(df.mean(numeric_only=True), inplace=True)\n",
    "\n",
    "    return df\n",
    "\n",
    "filepath =\"../data/table.csv\"\n",
    "df_cleaned = datafiltrering(filepath)\n",
    "print(df_cleaned.head())\n"
   ]
  },
  {
   "cell_type": "code",
   "execution_count": 75,
   "metadata": {},
   "outputs": [],
   "source": [
    "# Fjern ekstreme verdier\n",
    "def ekstremVerdier(df):\n",
    "    df = df[(df[\"Lufttemperatur\"].between(-50, 50))] \n",
    "    df = df[(df[\"Vindretning\"].between(0, 360))] \n",
    "    \n",
    "    return df\n",
    "\n",
    "df_cleaned = ekstremVerdier(df_cleaned)\n",
    "\n"
   ]
  },
  {
   "cell_type": "code",
   "execution_count": 76,
   "metadata": {},
   "outputs": [],
   "source": [
    "# Tar i bruk 3 metoder for å fylle inn manglende data\n",
    "def manglendeData(df, method=\"mean\"):\n",
    "\n",
    "    if method == \"mean\":\n",
    "        df.fillna(df.mean(numeric_only=True), inplace=True)\n",
    "    elif method == \"median\":\n",
    "        df.fillna(df.median(numeric_only=True), inplace=True)\n",
    "    elif method == \"zero\":\n",
    "        df.fillna(0, inplace=True)\n",
    "    \n",
    "    return df\n",
    "\n",
    "df_cleaned = manglendeData(df_cleaned, method=\"mean\")\n",
    "\n",
    "#df_cleaned.to_csv(\"renset_værdata.csv\", index=False)\n"
   ]
  }
 ],
 "metadata": {
  "kernelspec": {
   "display_name": "Python 3",
   "language": "python",
   "name": "python3"
  },
  "language_info": {
   "codemirror_mode": {
    "name": "ipython",
    "version": 3
   },
   "file_extension": ".py",
   "mimetype": "text/x-python",
   "name": "python",
   "nbconvert_exporter": "python",
   "pygments_lexer": "ipython3",
   "version": "3.13.2"
  }
 },
 "nbformat": 4,
 "nbformat_minor": 2
}
