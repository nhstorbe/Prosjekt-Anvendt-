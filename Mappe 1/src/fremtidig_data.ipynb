{
 "cells": [
  {
   "cell_type": "markdown",
   "metadata": {},
   "source": [
    "# Fremtidsrettet data\n",
    "### Ved hjelp av API\n",
    "\n",
    "\n",
    "Gruppen har hentet data fra [developer.yr.no](https://api.met.no/weatherapi/locationforecast/2.0/documentation). Daten viser vær for gitte plasser i den kommende uken. Gruppen har valgt å bruke URLs som støtter JSON-filer.\n",
    " Daten viser være for gitte plasser i den kommende uken. Gruppen har valgt å bruke URLs som støtter JSON-filer.\n"
   ]
  }
 ],
 "metadata": {
  "language_info": {
   "name": "python"
  }
 },
 "nbformat": 4,
 "nbformat_minor": 2
}
